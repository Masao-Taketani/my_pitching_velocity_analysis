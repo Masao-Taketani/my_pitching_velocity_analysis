{
 "cells": [
  {
   "cell_type": "code",
   "execution_count": 1,
   "metadata": {},
   "outputs": [],
   "source": [
    "%matplotlib inline\n",
    "import datetime\n",
    "import matplotlib.pyplot as plt"
   ]
  },
  {
   "cell_type": "markdown",
   "metadata": {},
   "source": [
    "# Rubber Ball Data Analysis"
   ]
  },
  {
   "cell_type": "code",
   "execution_count": 2,
   "metadata": {},
   "outputs": [],
   "source": [
    "with open(\"data.tsv\", \"r\", encoding=\"utf-8\") as f:\n",
    "    data = f.read()\n",
    "\n",
    "inputs_list = []\n",
    "outputs_list = []\n",
    "for i, line in enumerate(data.splitlines()):\n",
    "    if i == 0:\n",
    "        continue\n",
    "    date, vel = line.split(\"\\t\")\n",
    "    inputs_list.append(date)\n",
    "    outputs_list.append(vel)"
   ]
  },
  {
   "cell_type": "code",
   "execution_count": 3,
   "metadata": {},
   "outputs": [],
   "source": [
    "def preprocess_inputs(date):\n",
    "    year, month, day = date.split(\"-\")\n",
    "    date_obj = datetime.date(year=int(year), month=int(month), day=int(day))\n",
    "    return date_obj"
   ]
  },
  {
   "cell_type": "code",
   "execution_count": 4,
   "metadata": {},
   "outputs": [],
   "source": [
    "regularized_inputs = []\n",
    "\n",
    "for i, inp in enumerate(inputs_list):\n",
    "    if i == 0:\n",
    "        start_date = preprocess_inputs(inp)\n",
    "        regularized_inputs.append(0)\n",
    "        continue\n",
    "    reg_inp = preprocess_inputs(inp) - start_date\n",
    "    regularized_inputs.append(reg_inp.days)"
   ]
  },
  {
   "cell_type": "code",
   "execution_count": 10,
   "metadata": {},
   "outputs": [
    {
     "data": {
      "image/png": "[encoded data removed]",
      "text/plain": [
       "<Figure size 432x288 with 1 Axes>"
      ]
     },
     "metadata": {
      "needs_background": "light"
     },
     "output_type": "display_data"
    }
   ],
   "source": [
    "x = regularized_inputs\n",
    "y = outputs_list\n",
    "\n",
    "fig, ax = plt.subplots(1, 1)\n",
    "plt.plot(x, y, marker=\"s\", color=\"blue\", linestyle=\":\")\n",
    "plt.title(\"Rubber Ball Velocity Analysis\")\n",
    "ax.set_xlabel(\"Days (0: start date)\")\n",
    "ax.set_ylabel(\"Max Velocity (KPH)\")\n",
    "plt.show()"
   ]
  },
  {
   "cell_type": "markdown",
   "metadata": {},
   "source": [
    "# Regulation Ball Data Analysis"
   ]
  },
  {
   "cell_type": "code",
   "execution_count": 27,
   "metadata": {},
   "outputs": [],
   "source": [
    "def preprocess_reg_inputs(years_list):\n",
    "    new_inputs_list = []\n",
    "    \n",
    "    for i, year in enumerate(years_list):\n",
    "        if i == 0:\n",
    "            new_inputs_list.append(0)\n",
    "            start_year = int(year)\n",
    "            continue\n",
    "        modified_year = int(year) - start_year\n",
    "        new_inputs_list.append(modified_year)\n",
    "        \n",
    "    return new_inputs_list"
   ]
  },
  {
   "cell_type": "code",
   "execution_count": 28,
   "metadata": {},
   "outputs": [],
   "source": [
    "with open(\"regulation_ball_data.tsv\", \"r\", encoding=\"utf-8\") as f:\n",
    "    data = f.read()\n",
    "    \n",
    "tmp_reg_inputs_list = []\n",
    "reg_outputs_list = []\n",
    "for i, line in enumerate(data.splitlines()):\n",
    "    if i == 0:\n",
    "        continue\n",
    "    reg_input, reg_output = line.split(\"\\t\")\n",
    "    tmp_reg_inputs_list.append(reg_input)\n",
    "    reg_outputs_list.append(reg_output)\n",
    "\n",
    "reg_inputs_list = preprocess_reg_inputs(tmp_reg_inputs_list)"
   ]
  },
  {
   "cell_type": "code",
   "execution_count": 29,
   "metadata": {},
   "outputs": [
    {
     "data": {
      "text/plain": [
       "([0, 1], ['106', '110'])"
      ]
     },
     "execution_count": 29,
     "metadata": {},
     "output_type": "execute_result"
    }
   ],
   "source": [
    "reg_inputs_list, reg_outputs_list"
   ]
  },
  {
   "cell_type": "code",
   "execution_count": 32,
   "metadata": {},
   "outputs": [
    {
     "data": {
      "image/png": "[encoded data removed]",
      "text/plain": [
       "<Figure size 432x288 with 1 Axes>"
      ]
     },
     "metadata": {
      "needs_background": "light"
     },
     "output_type": "display_data"
    }
   ],
   "source": [
    "x_reg = reg_inputs_list\n",
    "y_reg = reg_outputs_list\n",
    "\n",
    "fig, ax = plt.subplots(1, 1)\n",
    "plt.plot(x_reg, y_reg, marker=\"o\", color=\"red\", linestyle=\"--\")\n",
    "plt.title(\"Regulation Ball Velocity Analysis\")\n",
    "ax.set_xlabel(\"Years (0: start year)\")\n",
    "ax.set_ylabel(\"Max Velocity (KPH)\")\n",
    "plt.show()"
   ]
  },
  {
   "cell_type": "code",
   "execution_count": null,
   "metadata": {},
   "outputs": [],
   "source": []
  }
 ],
 "metadata": {
  "kernelspec": {
   "display_name": "Python 3",
   "language": "python",
   "name": "python3"
  },
  "language_info": {
   "codemirror_mode": {
    "name": "ipython",
    "version": 3
   },
   "file_extension": ".py",
   "mimetype": "text/x-python",
   "name": "python",
   "nbconvert_exporter": "python",
   "pygments_lexer": "ipython3",
   "version": "3.6.4"
  }
 },
 "nbformat": 4,
 "nbformat_minor": 2
}
